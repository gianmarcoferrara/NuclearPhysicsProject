{
 "cells": [
  {
   "cell_type": "code",
   "execution_count": null,
   "id": "b6376a74-5b7a-4c65-aff9-201780f6845f",
   "metadata": {},
   "outputs": [],
   "source": [
    "import nbformat\n",
    "\n",
    "with open(\"renormalize_schrodinger.ipynb\") as f:\n",
    "    nb = nbformat.read(f, as_version=4)\n",
    "\n",
    "code_cells = [cell['source'] for cell in nb.cells if cell.cell_type == 'code']\n",
    "\n",
    "with open(\"clean_script.py\", \"w\") as f:\n",
    "    f.write('\\n\\n'.join(code_cells))\n"
   ]
  }
 ],
 "metadata": {
  "kernelspec": {
   "display_name": "Python 3 (ipykernel)",
   "language": "python",
   "name": "python3"
  },
  "language_info": {
   "codemirror_mode": {
    "name": "ipython",
    "version": 3
   },
   "file_extension": ".py",
   "mimetype": "text/x-python",
   "name": "python",
   "nbconvert_exporter": "python",
   "pygments_lexer": "ipython3",
   "version": "3.11.7"
  }
 },
 "nbformat": 4,
 "nbformat_minor": 5
}
