{
 "cells": [
  {
   "cell_type": "raw",
   "id": "103467e4-8d97-4265-9615-26c95d9ba8bc",
   "metadata": {},
   "source": [
    "Here we write some example of package vegas for multidimensional integrals.\n",
    "The first example is an integral in for dimensions.\n",
    "First of all we define a 4-dimensional function f(x), then we create the integrator \"integ\" in which we specify the integation volume.\n",
    "When we apply the integrator we specify also the number of iterations of the vegas algorithm nitn = 10, each of these uses no more than neval = 1000 evaluations of the integrand.\n",
    "Each iteration produces an independent estimate of the integral.\n",
    "The final estimate is the weighted average of the results, it is returned by integ().\n",
    "result.summary() returns a summary of results from each iteration.\n"
   ]
  },
  {
   "cell_type": "code",
   "execution_count": 11,
   "id": "b67dbdbb-b854-4fd7-9c28-c3126cadfe9f",
   "metadata": {},
   "outputs": [
    {
     "name": "stdout",
     "output_type": "stream",
     "text": [
      "itn   integral        wgt average     chi2/dof        Q\n",
      "-------------------------------------------------------\n",
      "  1   0.67(30)        0.67(30)            0.00     1.00\n",
      "  2   1.21(32)        0.92(22)            1.54     0.21\n",
      "  3   1.23(22)        1.08(15)            1.28     0.28\n",
      "  4   0.948(46)       0.958(44)           1.07     0.36\n",
      "  5   1.026(29)       1.006(24)           1.22     0.30\n",
      "  6   0.994(23)       1.000(17)           1.00     0.41\n",
      "  7   1.002(18)       1.001(12)           0.84     0.54\n",
      "  8   0.988(15)       0.9958(95)          0.78     0.61\n",
      "  9   1.028(13)       1.0071(76)          1.18     0.31\n",
      " 10   0.999(12)       1.0048(64)          1.08     0.37\n",
      "\n",
      "result = 1.0048(64)     Q = 0.37\n"
     ]
    }
   ],
   "source": [
    "import vegas\n",
    "import math\n",
    "\n",
    "def f(x) :\n",
    "    dx2 = 0\n",
    "    for d in range(4):\n",
    "        dx2 += (x[d] - 0.5) ** 2\n",
    "    return math.exp(-dx2 * 100.) * 1013.2118364296088\n",
    "\n",
    "integ = vegas.Integrator([[-1,1],[0,1],[0,1],[0,1]])\n",
    "\n",
    "result = integ(f, nitn=10, neval=1000)\n",
    "print(result.summary())\n",
    "print('result = %s     Q = %.2f' % (result, result.Q))"
   ]
  }
 ],
 "metadata": {
  "kernelspec": {
   "display_name": "Python 3 (ipykernel)",
   "language": "python",
   "name": "python3"
  },
  "language_info": {
   "codemirror_mode": {
    "name": "ipython",
    "version": 3
   },
   "file_extension": ".py",
   "mimetype": "text/x-python",
   "name": "python",
   "nbconvert_exporter": "python",
   "pygments_lexer": "ipython3",
   "version": "3.11.7"
  }
 },
 "nbformat": 4,
 "nbformat_minor": 5
}
