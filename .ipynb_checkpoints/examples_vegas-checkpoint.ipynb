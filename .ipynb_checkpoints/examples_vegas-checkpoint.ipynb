{
 "cells": [
  {
   "cell_type": "raw",
   "id": "103467e4-8d97-4265-9615-26c95d9ba8bc",
   "metadata": {},
   "source": [
    "Here we write some example of package vegas for multidimensional integrals.\n",
    "The first example is an integral in for dimensions.\n",
    "First of all we define a 4-dimensional function f(x), then we create the integrator \"integ\" in which we specify the integation volume.\n"
   ]
  },
  {
   "cell_type": "code",
   "execution_count": 5,
   "id": "b67dbdbb-b854-4fd7-9c28-c3126cadfe9f",
   "metadata": {},
   "outputs": [
    {
     "name": "stdout",
     "output_type": "stream",
     "text": [
      "itn   integral        wgt average     chi2/dof        Q\n",
      "-------------------------------------------------------\n",
      "  1   0.67(37)        0.67(37)            0.00     1.00\n",
      "  2   0.72(11)        0.72(10)            0.02     0.89\n",
      "  3   0.97(14)        0.811(83)           1.07     0.34\n",
      "  4   1.026(67)       0.941(52)           2.07     0.10\n",
      "  5   0.952(31)       0.949(27)           1.56     0.18\n",
      "  6   0.966(24)       0.958(18)           1.30     0.26\n",
      "  7   0.996(20)       0.975(13)           1.40     0.21\n",
      "  8   0.998(16)       0.984(10)           1.37     0.21\n",
      "  9   1.004(13)       0.9919(81)          1.38     0.20\n",
      " 10   1.013(12)       0.9986(67)          1.47     0.15\n",
      "\n",
      "result = 0.9986(67)     Q = 0.15\n"
     ]
    }
   ],
   "source": [
    "import vegas\n",
    "import math\n",
    "\n",
    "def f(x) :\n",
    "    dx2 = 0\n",
    "    for d in range(4):\n",
    "        dx2 += (x[d] - 0.5) ** 2\n",
    "    return math.exp(-dx2 * 100.) * 1013.2118364296088\n",
    "\n",
    "integ = vegas.Integrator([[-1,1],[0,1],[0,1],[0,1]])\n",
    "\n",
    "result = integ(f, nitn=10, neval=1000)\n",
    "print(result.summary())\n",
    "print('result = %s     Q = %.2f' % (result, result.Q))"
   ]
  }
 ],
 "metadata": {
  "kernelspec": {
   "display_name": "Python 3 (ipykernel)",
   "language": "python",
   "name": "python3"
  },
  "language_info": {
   "codemirror_mode": {
    "name": "ipython",
    "version": 3
   },
   "file_extension": ".py",
   "mimetype": "text/x-python",
   "name": "python",
   "nbconvert_exporter": "python",
   "pygments_lexer": "ipython3",
   "version": "3.11.7"
  }
 },
 "nbformat": 4,
 "nbformat_minor": 5
}
