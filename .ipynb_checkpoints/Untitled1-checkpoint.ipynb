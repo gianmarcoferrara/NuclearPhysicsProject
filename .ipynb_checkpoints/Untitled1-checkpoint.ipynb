{
 "cells": [
  {
   "cell_type": "code",
   "execution_count": 3,
   "id": "1033ea38-59b6-4188-a704-279f3290c1d7",
   "metadata": {},
   "outputs": [
    {
     "name": "stdout",
     "output_type": "stream",
     "text": [
      "[0.  0.5 1.  1.5 2. ]\n",
      "2.0\n",
      "[0.  0.5 1.  1.5 2.  2.5]\n",
      "6\n",
      "0.0\n",
      "0.5\n",
      "1.0\n",
      "1.5\n",
      "2.0\n",
      "1\n",
      "2\n",
      "2\n",
      "3\n",
      "4\n",
      "5\n",
      "6\n",
      "7\n",
      "8\n",
      "9\n"
     ]
    },
    {
     "data": {
      "text/plain": [
       "2980.9579870417283"
      ]
     },
     "execution_count": 3,
     "metadata": {},
     "output_type": "execute_result"
    }
   ],
   "source": [
    "import numpy as np\n",
    "\n",
    "\n",
    "x_min = 0\n",
    "n_points = 5\n",
    "dx = 0.5\n",
    "x = np.linspace(x_min, x_min + ((n_points - 1) * dx), n_points)\n",
    "print(x)\n",
    "print(x[n_points - 1])\n",
    "    \n",
    "x = np.append(x, x[n_points - 1] + dx)\n",
    "print(x)\n",
    "print(len(x))\n",
    "for i in range(0, n_points):\n",
    "    print(x[i])\n",
    "\n",
    "\n",
    "for i in range(1,3):\n",
    "    print(i)\n",
    "\n",
    "for i in range (2,10):\n",
    "    print(i)\n",
    "\n",
    "1 / 2 - 1\n",
    "np.exp(-8)\n",
    "1/ np.exp(-8)"
   ]
  }
 ],
 "metadata": {
  "kernelspec": {
   "display_name": "Python 3 (ipykernel)",
   "language": "python",
   "name": "python3"
  },
  "language_info": {
   "codemirror_mode": {
    "name": "ipython",
    "version": 3
   },
   "file_extension": ".py",
   "mimetype": "text/x-python",
   "name": "python",
   "nbconvert_exporter": "python",
   "pygments_lexer": "ipython3",
   "version": "3.11.7"
  }
 },
 "nbformat": 4,
 "nbformat_minor": 5
}
