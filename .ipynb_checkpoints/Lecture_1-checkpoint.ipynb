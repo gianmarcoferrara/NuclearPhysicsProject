{
 "cells": [
  {
   "cell_type": "code",
   "execution_count": 12,
   "id": "f4efc0f0-294b-4f05-931e-b2137288ce40",
   "metadata": {},
   "outputs": [
    {
     "name": "stdout",
     "output_type": "stream",
     "text": [
      "0.009183673977218275\n",
      "0.0009118819655545162\n",
      "9.071121399614121\n",
      "0.0009118951837867185\n",
      "1.4495551728807734e-05\n"
     ]
    }
   ],
   "source": [
    "import numpy as np\n",
    "from scipy.special import factorial\n",
    "sum = 1.0\n",
    "for n in range(1,21):\n",
    "    sum += (-7)**n /factorial(n)\n",
    "print(sum)\n",
    "correct = np.exp(-7)\n",
    "print(correct)\n",
    "relative_weight_1 = (sum - correct)/ correct\n",
    "print(relative_weight_1)\n",
    "sum_1 = 1.0\n",
    "for n in range(1,21):\n",
    "    sum_1 += 7**n/factorial(n)\n",
    "sum_1 = 1/ sum_1\n",
    "print(sum_1)\n",
    "relative_weight_2 = (sum_1 - correct)/ correct\n",
    "print(relative_weight_2)"
   ]
  }
 ],
 "metadata": {
  "kernelspec": {
   "display_name": "Python 3 (ipykernel)",
   "language": "python",
   "name": "python3"
  },
  "language_info": {
   "codemirror_mode": {
    "name": "ipython",
    "version": 3
   },
   "file_extension": ".py",
   "mimetype": "text/x-python",
   "name": "python",
   "nbconvert_exporter": "python",
   "pygments_lexer": "ipython3",
   "version": "3.11.7"
  }
 },
 "nbformat": 4,
 "nbformat_minor": 5
}
