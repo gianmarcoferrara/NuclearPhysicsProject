{
 "cells": [
  {
   "cell_type": "code",
   "execution_count": 1,
   "id": "f4efc0f0-294b-4f05-931e-b2137288ce40",
   "metadata": {},
   "outputs": [
    {
     "name": "stdout",
     "output_type": "stream",
     "text": [
      "3.912023005428146\n",
      "391\n",
      "Radial grid information:\n",
      "\n",
      "dx =  0.01\n",
      "x_min =  -8.0\n",
      "n_points =  1352\n",
      "r(0) =  0.00033546262790251185\n",
      "r(n_points) =  249.6350371896937\n",
      "-----------------------------------------------\n",
      "\n",
      "100.4841496363893\n",
      "3.141592653589793\n",
      "0.00033546262790251185\n",
      "1353\n",
      "1352\n",
      "---------------------------\n",
      "5\n"
     ]
    }
   ],
   "source": [
    "import numpy as np\n",
    "from scipy.special import factorial\n",
    "\n",
    "x = np.log(50)\n",
    "print(x)\n",
    "n = int(x / 0.01)\n",
    "print(n)\n",
    "\n",
    "#functions\n",
    "def prepare_grid(n_points, x_min, dx):\n",
    "\n",
    "    #preparing x-array\n",
    "    x = np.linspace(x_min, x_min + ((n_points - 1) * dx), n_points)\n",
    "    x = np.append(x, x[n_points - 1] + dx)\n",
    "\n",
    "    #generate r, sqrt_r, and r^2 based on logarithmic x grid\n",
    "    r = np.exp(x)\n",
    "    sqrt_r = np.sqrt(r)\n",
    "    r2 = np.power(r, 2)\n",
    "\n",
    "    #print grid information\n",
    "    print(\"Radial grid information:\\n\")\n",
    "    print(\"dx = \", dx)\n",
    "    print(\"x_min = \", x_min)\n",
    "    print(\"n_points = \", n_points)\n",
    "    print(\"r(0) = \", r[0])\n",
    "    print(\"r(n_points) = \", r[n_points])\n",
    "    print(\"-----------------------------------------------\\n\")\n",
    "\n",
    "    return r, sqrt_r, r2\n",
    "\n",
    "#parameters\n",
    "r_max = 250. \n",
    "x_min = -8. #corresponds to r_min == 3 * 1E-4 Bohr radii\n",
    "dx = 0.01 #grid spacing\n",
    "\n",
    "#number of points for our parameters\n",
    "n_points = int((np.log(r_max) - x_min) / dx)\n",
    "\n",
    "#initialize logarithmic grid\n",
    "r, sqrt_r, r2 = prepare_grid(n_points, x_min, dx)\n",
    "\n",
    "print(r[1261])\n",
    "print(np.pi)\n",
    "print(np.exp(-8))\n",
    "print(len(r))\n",
    "print(n_points)\n",
    "print(\"---------------------------\")\n",
    "a = 0\n",
    "for i in range(0,10):\n",
    "    if i == 5:\n",
    "        a = i\n",
    "\n",
    "print(a)"
   ]
  },
  {
   "cell_type": "raw",
   "id": "fe2edb3a-66e1-4d38-9455-e510740c9d5a",
   "metadata": {},
   "source": [
    "How to compute derivatives\n",
    "Choosing small h for finite difference is not always a good idea for round-off errors and precision losing as seen above."
   ]
  }
 ],
 "metadata": {
  "kernelspec": {
   "display_name": "Python 3 (ipykernel)",
   "language": "python",
   "name": "python3"
  },
  "language_info": {
   "codemirror_mode": {
    "name": "ipython",
    "version": 3
   },
   "file_extension": ".py",
   "mimetype": "text/x-python",
   "name": "python",
   "nbconvert_exporter": "python",
   "pygments_lexer": "ipython3",
   "version": "3.11.7"
  }
 },
 "nbformat": 4,
 "nbformat_minor": 5
}
