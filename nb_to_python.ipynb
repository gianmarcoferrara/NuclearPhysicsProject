{
 "cells": [
  {
   "cell_type": "code",
   "execution_count": 1,
   "id": "7388950b-6471-463b-9372-8a1bdc8c05c9",
   "metadata": {},
   "outputs": [],
   "source": [
    "import nbformat\n",
    "from nbconvert import PythonExporter\n",
    "\n",
    "# Load the notebook\n",
    "with open(\"renormalize_schrodinger.ipynb\", \"r\", encoding=\"utf-8\") as f:\n",
    "    notebook = nbformat.read(f, as_version=4)\n",
    "\n",
    "# Filter out Markdown cells\n",
    "notebook.cells = [cell for cell in notebook.cells if cell.cell_type == 'code']\n",
    "\n",
    "# Convert to .py script\n",
    "exporter = PythonExporter()\n",
    "body, _ = exporter.from_notebook_node(notebook)\n",
    "\n",
    "# Save to file\n",
    "with open(\"renormalize_schrodinger.py\", \"w\", encoding=\"utf-8\") as f:\n",
    "    f.write(body)\n",
    "\n"
   ]
  }
 ],
 "metadata": {
  "kernelspec": {
   "display_name": "Python 3 (ipykernel)",
   "language": "python",
   "name": "python3"
  },
  "language_info": {
   "codemirror_mode": {
    "name": "ipython",
    "version": 3
   },
   "file_extension": ".py",
   "mimetype": "text/x-python",
   "name": "python",
   "nbconvert_exporter": "python",
   "pygments_lexer": "ipython3",
   "version": "3.11.7"
  }
 },
 "nbformat": 4,
 "nbformat_minor": 5
}
